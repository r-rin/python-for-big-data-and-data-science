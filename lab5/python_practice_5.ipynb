{
  "cells": [
    {
      "cell_type": "markdown",
      "metadata": {
        "id": "5qV_sehzFCTp"
      },
      "source": [
        "# I. OOP"
      ]
    },
    {
      "cell_type": "markdown",
      "metadata": {
        "id": "tx_U_hOALyfg"
      },
      "source": [
        "1. (6б). Створіть клас Animal, додайте три атрибути, один з яких має значення за замовчуванням та два методи на свій розсуд."
      ]
    },
    {
      "cell_type": "code",
      "execution_count": null,
      "metadata": {
        "id": "-Vf895KaL88N"
      },
      "outputs": [],
      "source": [
        "class Animal:\n",
        "    \n",
        "    def __init__(self, name, age, is_predator, hunger = 100):\n",
        "        self.name = name\n",
        "        self.age = age\n",
        "        self.is_predator = is_predator\n",
        "        self.hunger = hunger\n",
        "\n",
        "    def grow_up(self):\n",
        "        if (self.hunger < 100):\n",
        "            print(f\"{self.name} is too hungry to grow up :(\")\n",
        "            return\n",
        "\n",
        "        self.hunger = 0\n",
        "        self.age += 1\n",
        "        print(f\"{self.name} just became {self.age} years old!\")\n",
        "    \n",
        "    def eat(self):\n",
        "        if (self.hunger >= 100):\n",
        "            print(f\"{self.name} is full already!\")\n",
        "            return\n",
        "        \n",
        "        self.hunger += 10\n",
        "        if (self.hunger > 100):\n",
        "            self.hunger = 100\n",
        "\n",
        "        print(f\"{self.name} just ate some food.\")"
      ]
    },
    {
      "cell_type": "markdown",
      "metadata": {
        "id": "X_UlOMB0L93w"
      },
      "source": [
        "2. (2б). Створіть два обʼєкти цього класу, де один з обʼєктів створюється із дефолтним значенням атрибуту. На одному обʼєкті отримайте значення його атрибуту, а на іншому викличте один з його методів."
      ]
    },
    {
      "cell_type": "code",
      "execution_count": null,
      "metadata": {
        "id": "7gBu0ESOMCpG"
      },
      "outputs": [],
      "source": [
        "lion_animal = Animal(\"Lion\", 5, True)\n",
        "cat_animal = Animal(\"Cat\", 11, False, 20)\n",
        "\n",
        "print(f\"Lion's hunger is {lion_animal.hunger} out of 100\")\n",
        "lion_animal.grow_up()\n",
        "cat_animal.grow_up()\n",
        "print(f\"Cat's age is {cat_animal.age}.\")\n",
        "\n",
        "for i in range(9):\n",
        "    cat_animal.eat()\n",
        "cat_animal.grow_up()\n",
        "\n",
        "print(f\"Cat's age is {cat_animal.age}.\")"
      ]
    },
    {
      "cell_type": "markdown",
      "metadata": {
        "id": "HoqSCZt1MHn5"
      },
      "source": [
        "3. (5б). Створіть клас, де атрибути мають різні рівні доступу. Спробуйте отримати їхні значення та опишіть результати."
      ]
    },
    {
      "cell_type": "code",
      "execution_count": null,
      "metadata": {
        "id": "r9b3vJxBMSPV"
      },
      "outputs": [],
      "source": [
        "class Car():\n",
        "    def __init__(self, serial_number, model, type, fuel_amount = 24):\n",
        "        self._serial_number = serial_number\n",
        "        self.model = model\n",
        "        self.type = type\n",
        "        self.__fuel_amount = fuel_amount"
      ]
    },
    {
      "cell_type": "code",
      "execution_count": null,
      "metadata": {},
      "outputs": [],
      "source": [
        "new_car = Car(\"AA24567EH\", \"Kia\", \"Electric\")\n",
        "print(f\"Serial number of a car is {new_car._serial_number}\")\n",
        "print(f\"Model of a car is {new_car.model}\")\n",
        "print(f\"Type of a car is {new_car.type}\")\n",
        "#print(f\"Fuel amount in a car is {new_car.__fuel_amount}\") # Throws an error! "
      ]
    },
    {
      "cell_type": "markdown",
      "metadata": {
        "id": "5op2m2vgMSkZ"
      },
      "source": [
        "4. (7б). Як ви розумієте термін self? Для чого використовується метод __init __?"
      ]
    },
    {
      "cell_type": "markdown",
      "metadata": {
        "id": "DyiPqNRvMasx"
      },
      "source": [
        "self вказує на поточний обʼєкт над яким викликається метод. Коли відбувається виклик методу класу, то ми неявно передаємо обʼєкт класу як один з параметрів методу. \n",
        "__init__ є методом класу, який автоматично викликається при створенні нового екземпляру класу. Коли ми пишемо Car(..., ...), то неявно ми створюємо новий обʼєкт, викликаємо цей метод, та передаємо необхідні параметри. "
      ]
    },
    {
      "cell_type": "markdown",
      "metadata": {
        "id": "-6X8EGfjMd2y"
      },
      "source": [
        "5. (9б). Створіть клас Фігура без атрибутів, з методом get_area для отримання площі фігури, що повертає 0 та __add __, який приймає self та other в якості аргументів, а повертає суму площин фігур self та other."
      ]
    },
    {
      "cell_type": "code",
      "execution_count": null,
      "metadata": {
        "id": "4rvO_wYUMaEr"
      },
      "outputs": [],
      "source": [
        "class Figure:\n",
        "    def __init__(self):\n",
        "        pass\n",
        "\n",
        "    def get_area(self):\n",
        "        return 0\n",
        "    \n",
        "    def __add__(self, other):\n",
        "        if isinstance(other, Figure):\n",
        "            return self.get_area() + other.get_area()\n",
        "        return None"
      ]
    },
    {
      "cell_type": "code",
      "execution_count": null,
      "metadata": {},
      "outputs": [],
      "source": [
        "figure1 = Figure()\n",
        "figure2 = Figure()\n",
        "\n",
        "print(figure1.get_area())\n",
        "print(figure1 + figure2)\n",
        "print(figure2 + 1)"
      ]
    },
    {
      "cell_type": "markdown",
      "metadata": {
        "id": "SFcKnnv5Mo_z"
      },
      "source": [
        "6. (11б). Створіть 2 дочірніх класи від Фігури: Трикутник та Коло, які мають атрибути, необхідні для розрахунку площин. Визначте метод get_area в кожному з них так, щоби вони розраховували площу в залежності від формули для кожного типу фігури. Створіть обʼєкт класу Трикутник та обʼєкт класу Коло. Виконайте операцію суми за допомогою оператора + між ними."
      ]
    },
    {
      "cell_type": "code",
      "execution_count": null,
      "metadata": {
        "id": "H3GVNr69Muf3"
      },
      "outputs": [],
      "source": [
        "import math\n",
        "\n",
        "class Triangle(Figure):\n",
        "    def __init__(self, height_a, side_a):\n",
        "        super().__init__()\n",
        "        self.height_a = height_a\n",
        "        self.side_a = side_a\n",
        "    \n",
        "    def get_area(self):\n",
        "        return self.height_a * self.side_a / 2.0\n",
        "    \n",
        "class Circle(Figure):\n",
        "    def __init__(self, radius):\n",
        "        super().__init__()\n",
        "        self.radius = radius\n",
        "    \n",
        "    def get_area(self):\n",
        "        return math.pi * (self.radius**2)\n",
        "    \n",
        "\n",
        "triangle = Triangle(7, 16)\n",
        "circle = Circle(5)\n",
        "print(triangle + circle)"
      ]
    },
    {
      "cell_type": "markdown",
      "metadata": {
        "id": "HCvR206YMvLK"
      },
      "source": [
        "7. (3б). Продемонструйте різницю між isinstance та issubclass."
      ]
    },
    {
      "cell_type": "code",
      "execution_count": null,
      "metadata": {
        "id": "L_V1bBvDM0GN"
      },
      "outputs": [],
      "source": [
        "triangle_example = Triangle(2, 6)\n",
        "print(f\"Is triangle_example an instance of Triangle class: {isinstance(triangle_example, Triangle)}\")\n",
        "print(f\"Is triangle_example an instance of Figure class: {isinstance(triangle_example, Figure)}\")\n",
        "print(f\"Is triangle_example an instance of Circle class: {isinstance(triangle_example, Circle)}\")\n",
        "\n",
        "print(f\"Is Triangle a subclass of Figure: {issubclass(Triangle, Figure)}\")\n",
        "print(f\"Is Triangle a subclass of Circle: {issubclass(Triangle, Circle)}\")\n",
        "print(f\"Is Circle a subclass of Figure: {issubclass(Circle, Figure)}\")\n",
        "print(f\"Is Figure a subclass of Triangle: {issubclass(Figure, Triangle)}\")"
      ]
    },
    {
      "cell_type": "markdown",
      "metadata": {
        "id": "jjsaBZ-iM0Qq"
      },
      "source": [
        "8. (13б). Створіть клас BankAccount з приватними атрибутами balance та account_number. Реалізуйте методи поповнення та зняття коштів, забезпечивши належну інкапсуляцію. Підказка: використовуйте декоратори property та setter."
      ]
    },
    {
      "cell_type": "code",
      "execution_count": null,
      "metadata": {
        "id": "xCvZ7lh8M7YA"
      },
      "outputs": [],
      "source": [
        "class BankAccount():\n",
        "    def __init__(self, account_number, balance = 0):\n",
        "        self.account_number = account_number\n",
        "        self.balance = balance\n",
        "    \n",
        "    @property\n",
        "    def account_number(self):\n",
        "        return self.__account_number\n",
        "    \n",
        "    @account_number.setter\n",
        "    def account_number(self, value):\n",
        "        if (isinstance(value, int) and value >= 0):\n",
        "            self.__account_number = value\n",
        "            return True\n",
        "        return False\n",
        "    \n",
        "    @property\n",
        "    def balance(self):\n",
        "        return self.__balance\n",
        "    \n",
        "    @balance.setter\n",
        "    def balance(self, value):\n",
        "        if (isinstance(value, int)):\n",
        "            self.__balance = value\n",
        "            return True\n",
        "        return False\n",
        "    \n",
        "    def withdraw(self, amount):\n",
        "        if not isinstance(amount, int):\n",
        "            print(\"Amount is not an integer.\")\n",
        "            return False\n",
        "\n",
        "        if amount < 5:\n",
        "            print(\"Minimum amount of withdrawal is 5.\")\n",
        "            return False\n",
        "        \n",
        "        if amount > self.balance:\n",
        "            print(\"You can't withdraw more than you have.\")\n",
        "            return False\n",
        "        \n",
        "        self.balance -= amount\n",
        "\n",
        "        return True\n",
        "    \n",
        "    def deposit(self, amount):\n",
        "        if not isinstance(amount, int):\n",
        "            print(\"Amount is not an integer.\")\n",
        "            return False\n",
        "        \n",
        "        if amount < 1:\n",
        "            print(\"Minimum amount of deposit is 1.\")\n",
        "            return False\n",
        "\n",
        "        self.balance += amount\n",
        "\n",
        "        return True"
      ]
    },
    {
      "cell_type": "code",
      "execution_count": null,
      "metadata": {},
      "outputs": [],
      "source": [
        "bank_account = BankAccount(100000, 0)\n",
        "\n",
        "print(\"-- Deposit Test\")\n",
        "bank_account.deposit(\"String\")\n",
        "bank_account.deposit(-1)\n",
        "bank_account.deposit(0.1)\n",
        "bank_account.deposit(0)\n",
        "bank_account.deposit(250)\n",
        "\n",
        "print(\"\\n-- Withdraw Test\")\n",
        "bank_account.withdraw(\"String\")\n",
        "bank_account.withdraw(-5)\n",
        "bank_account.withdraw(4)\n",
        "bank_account.withdraw(4.2)\n",
        "bank_account.withdraw(3000)\n",
        "bank_account.withdraw(200)\n",
        "bank_account.withdraw(25)\n",
        "print(\"\\n\")\n",
        "\n",
        "print(f\"Balance: {bank_account.balance}\")"
      ]
    },
    {
      "cell_type": "markdown",
      "metadata": {
        "id": "tIzL2SJTM8ft"
      },
      "source": [
        "9. (11б). Створіть клас Library, який містить список об'єктів типу Book. Реалізуйте методи для додавання книги, видалення книги та відображення списку книг."
      ]
    },
    {
      "cell_type": "code",
      "execution_count": null,
      "metadata": {
        "id": "HWxfJKLtNAUZ"
      },
      "outputs": [],
      "source": [
        "class Book:\n",
        "    def __init__(self, author, title, publish_year):\n",
        "        self.author = author\n",
        "        self.title = title\n",
        "        self.publish_year = publish_year\n",
        "    \n",
        "    @property\n",
        "    def author(self):\n",
        "        return self.__author\n",
        "    \n",
        "    @author.setter\n",
        "    def author(self, string):\n",
        "        if isinstance(string, str):\n",
        "            self.__author = string\n",
        "            return True\n",
        "        return False\n",
        "    \n",
        "    @property\n",
        "    def title(self):\n",
        "        return self.__title\n",
        "    \n",
        "    @title.setter\n",
        "    def title(self, string):\n",
        "        if isinstance(string, str):\n",
        "            self.__title = string\n",
        "            return True\n",
        "        return False\n",
        "    \n",
        "    @property\n",
        "    def publish_year(self):\n",
        "        return self.__publish_year\n",
        "    \n",
        "    @publish_year.setter\n",
        "    def publish_year(self, year):\n",
        "        if isinstance(year, int) and (year > 0):\n",
        "            self.__publish_year = year\n",
        "            return True\n",
        "        return False"
      ]
    },
    {
      "cell_type": "code",
      "execution_count": null,
      "metadata": {},
      "outputs": [],
      "source": [
        "class Library:\n",
        "    def __init__(self):\n",
        "        self.__books_array = []\n",
        "    \n",
        "    def add_book(self, book):\n",
        "        if isinstance(book, Book):\n",
        "            self.__books_array.append(book)\n",
        "            return True\n",
        "        return False\n",
        "    \n",
        "    def remove_by_index(self, index):\n",
        "        if isinstance(index, int):\n",
        "\n",
        "            length = len(self.__books_array)\n",
        "\n",
        "            if (index >= 0) and (index < length):\n",
        "                self.__books_array.pop(index)\n",
        "                return True\n",
        "            \n",
        "        return False\n",
        "    \n",
        "    def remove_all(self):\n",
        "        self.__books_array.clear()\n",
        "    \n",
        "    def show(self):\n",
        "        print(\"[------- Library Storage -------]\")\n",
        "        index = 0\n",
        "        for book in self.__books_array:\n",
        "            print(f\"{index}. <{book.title}> by {book.author} ({book.publish_year})\")\n",
        "            index += 1\n"
      ]
    },
    {
      "cell_type": "code",
      "execution_count": null,
      "metadata": {},
      "outputs": [],
      "source": [
        "book1 = Book(\"J.K. Rowling\", \"Harry Potter and the Sorcerer's Stone\", 1997)\n",
        "book2 = Book(\"J.R.R. Tolkien\", \"The Hobbit\", 1937)\n",
        "book3 = Book(\"George Orwell\", \"1984\", 1949)\n",
        "book4 = Book(\"Harper Lee\", \"To Kill a Mockingbird\", 1960)\n",
        "book5 = Book(\"F. Scott Fitzgerald\", \"The Great Gatsby\", 1925)\n",
        "book6 = Book(\"Jane Austen\", \"Pride and Prejudice\", 1813)\n",
        "book7 = Book(\"Mark Twain\", \"Adventures of Huckleberry Finn\", 1884)\n",
        "book8 = Book(\"J.D. Salinger\", \"The Catcher in the Rye\", 1951)\n",
        "\n",
        "library = Library()\n",
        "library.add_book(book1)\n",
        "library.add_book(book2)\n",
        "library.add_book(book3)\n",
        "library.add_book(book4)\n",
        "library.add_book(book5)\n",
        "library.add_book(book6)\n",
        "library.add_book(book7)\n",
        "library.add_book(book8)\n",
        "\n",
        "library.show()\n",
        "library.remove_by_index(4)\n",
        "library.show()\n",
        "library.remove_all()\n",
        "library.show()\n"
      ]
    },
    {
      "cell_type": "markdown",
      "metadata": {
        "id": "lmV8pAwwNIqu"
      },
      "source": [
        "10. (13б). Створіть клас Person з атрибутами name та age. Створіть ще один клас Employee з такими атрибутами, як department та salary. Створіть клас Manager, який успадковує обидва класи Person та Employee. Продемонструйте використання множинної спадковості, створивши обʼєкт класу Manager та отримавши mro для цього класу."
      ]
    },
    {
      "cell_type": "code",
      "execution_count": null,
      "metadata": {
        "id": "R49grKlWNPeN"
      },
      "outputs": [],
      "source": [
        "class Person:\n",
        "    def __init__(self, name, age):\n",
        "        self.name = name\n",
        "        self.age = age\n",
        "\n",
        "class Employee:\n",
        "    def __init__(self, department, salary):\n",
        "        self.department = department\n",
        "        self.salary = salary\n",
        "\n",
        "class Manager(Person, Employee):\n",
        "    def __init__(self, name, age, department, salary):\n",
        "        Person.__init__(self, name, age)\n",
        "        Employee.__init__(self, department, salary)\n",
        "\n",
        "manager = Manager(\"Andriy\", 20, \"Finance\", 890)\n",
        "\n",
        "print(Manager.__mro__)\n",
        "print(Manager.mro())"
      ]
    },
    {
      "cell_type": "markdown",
      "metadata": {
        "id": "dIJyUiNBFG8G"
      },
      "source": [
        "# II. Iterator"
      ]
    },
    {
      "cell_type": "markdown",
      "metadata": {
        "id": "13vsm0NyKIzL"
      },
      "source": [
        "11. (4б). Визначте рядок(str) з 4ма різними за значенням символами. Створіть ітератор на основі цього рядка. Викличте 5 разів функцію next на ітераторі, 4ри перших з них огорніть у ф-цію print()."
      ]
    },
    {
      "cell_type": "code",
      "execution_count": null,
      "metadata": {
        "id": "81ntabAkKuz-"
      },
      "outputs": [],
      "source": [
        "string = \"a@6;\"\n",
        "string_iterator = iter(string)\n",
        "\n",
        "print(next(string_iterator))\n",
        "print(next(string_iterator))\n",
        "print(next(string_iterator))\n",
        "print(next(string_iterator))\n",
        "next(string_iterator) #Error!"
      ]
    },
    {
      "cell_type": "markdown",
      "metadata": {
        "id": "aekWHGXOLRsO"
      },
      "source": [
        "А що якщо викликати цю ж функцію на рядку?"
      ]
    },
    {
      "cell_type": "code",
      "execution_count": null,
      "metadata": {
        "id": "mxATGsErLV1i"
      },
      "outputs": [],
      "source": [
        "print(next(string)) # string is an object, not an iterator"
      ]
    },
    {
      "cell_type": "markdown",
      "metadata": {
        "id": "XwtMEopwJ4pH"
      },
      "source": [
        " 12. (5б). Опишіть своїми словами в одному реченні, як ви розумієте різницю між ітерабельними обʼєктами та ітераторами (можна на прикладі)."
      ]
    },
    {
      "cell_type": "markdown",
      "metadata": {
        "id": "-sHrODc3KFn8"
      },
      "source": [
        "Ітерабельні обʼєкти - це такі обʼєкти, які ми можемо перебирати за допомогою циклу (for smth in iterable_obj), а ітератор - це обʼєкт, який має поточний стан та вказує на один з елементів ітерабельного обʼєкту. За допомогою функцій можна керувати ітератором (next())."
      ]
    },
    {
      "cell_type": "markdown",
      "metadata": {
        "id": "E9qJWmNbK8Gl"
      },
      "source": [
        "13. (11б). Створіть клас, що має визначений Iterator Protocol та при кожному виклику next повертає літери англійської абетки, поки вони не вичерпаються."
      ]
    },
    {
      "cell_type": "code",
      "execution_count": null,
      "metadata": {
        "id": "cqx-g_RsLo6I"
      },
      "outputs": [],
      "source": [
        "class AlpahbetIterator:\n",
        "\n",
        "    def __init__(self, alphabet = \"abcdefghijklmnopqrstuvwxyz\"):\n",
        "        self.alphabet = alphabet\n",
        "        self.pointer = -1\n",
        "\n",
        "    def __iter__(self):\n",
        "        return self\n",
        "    \n",
        "    def __next__(self):\n",
        "        if self.pointer < len(self.alphabet) - 1:\n",
        "            self.pointer += 1\n",
        "            return self.alphabet[self.pointer]\n",
        "        else:\n",
        "            raise StopIteration"
      ]
    },
    {
      "cell_type": "code",
      "execution_count": null,
      "metadata": {},
      "outputs": [],
      "source": [
        "eng_alphabet_iter = AlpahbetIterator()\n",
        "\n",
        "for i in eng_alphabet_iter:\n",
        "    print(i)"
      ]
    },
    {
      "cell_type": "markdown",
      "metadata": {
        "id": "Z3E3S_s1Fv7-"
      },
      "source": [
        "# Вітаю! Ви велика(ий) молодець, що впоралась(вся). Похваліть себе та побалуйте чимось приємним. Я Вами пишаюся."
      ]
    }
  ],
  "metadata": {
    "colab": {
      "provenance": []
    },
    "kernelspec": {
      "display_name": "Python 3",
      "name": "python3"
    },
    "language_info": {
      "codemirror_mode": {
        "name": "ipython",
        "version": 3
      },
      "file_extension": ".py",
      "mimetype": "text/x-python",
      "name": "python",
      "nbconvert_exporter": "python",
      "pygments_lexer": "ipython3",
      "version": "3.11.2"
    }
  },
  "nbformat": 4,
  "nbformat_minor": 0
}
