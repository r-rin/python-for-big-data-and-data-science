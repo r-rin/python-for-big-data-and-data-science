{
  "cells": [
    {
      "cell_type": "markdown",
      "metadata": {
        "id": "kXpppdVm6wFy"
      },
      "source": [
        "# I. Functions. Arguments."
      ]
    },
    {
      "cell_type": "markdown",
      "metadata": {
        "id": "u_krJdlbAkVz"
      },
      "source": [
        "1. (5б) Назвіть основні 4 смислові  частини, з яких складається функція."
      ]
    },
    {
      "cell_type": "markdown",
      "metadata": {
        "id": "KKTrTXmHAptb"
      },
      "source": [
        "Функція складається з імені функції, переліку позиційних (обовʼязкових) та keyword аргументів (необовʼязкових), блоку коду та значення, що буде повернуто (return)."
      ]
    },
    {
      "cell_type": "markdown",
      "metadata": {
        "id": "ORM4PqJQAtDM"
      },
      "source": [
        "2. (3б) Визначте функцію, що приймає 2 аргументи та повертає результат ділення 1го аргумента на інший."
      ]
    },
    {
      "cell_type": "code",
      "execution_count": 1,
      "metadata": {
        "colab": {
          "base_uri": "https://localhost:8080/"
        },
        "id": "EuDx-z8M6sLo",
        "outputId": "22700630-6cf8-43a6-f158-6d795af0f3ab"
      },
      "outputs": [],
      "source": [
        "def divide(a, b):\n",
        "    return a / b;"
      ]
    },
    {
      "cell_type": "markdown",
      "metadata": {
        "id": "5joQGQ-SAyMe"
      },
      "source": [
        "3. (2б) Викличте вище визначену функцію, де другий аргумент дорівнює 0."
      ]
    },
    {
      "cell_type": "code",
      "execution_count": 4,
      "metadata": {
        "colab": {
          "base_uri": "https://localhost:8080/"
        },
        "id": "V5cBV1LOA3d-",
        "outputId": "aa38b7f5-07d4-43b6-d49a-73fe6fbca4b5"
      },
      "outputs": [
        {
          "name": "stdout",
          "output_type": "stream",
          "text": [
            "100 divide by 0 is equal to None\n"
          ]
        }
      ],
      "source": [
        "a = 100\n",
        "b = 0\n",
        "print(f\"{a} divide by {b} is equal to {divide(a, b)}\")"
      ]
    },
    {
      "cell_type": "markdown",
      "metadata": {
        "id": "QyimWgW8A43-"
      },
      "source": [
        "4. (4б) Перевизначте функцію так, щоби у випадку ділення на 0 функція повертала None, а в решті випадків - результат розрахунків."
      ]
    },
    {
      "cell_type": "code",
      "execution_count": 3,
      "metadata": {
        "colab": {
          "base_uri": "https://localhost:8080/"
        },
        "id": "7VIODtSjA8Ek",
        "outputId": "4afd0165-a010-4cb1-a8e6-296a00bcec94"
      },
      "outputs": [],
      "source": [
        "def divide(a, b):\n",
        "    if b == 0: \n",
        "        return None\n",
        "    return a / b;"
      ]
    },
    {
      "cell_type": "markdown",
      "metadata": {
        "id": "Y8mN0GfkA81l"
      },
      "source": [
        "5. (5б) Визначте функцію, що віднімає одне число від іншого (підказка: це буде 2 аргументи функції). При чому, якщо не визначити, скільки саме має бути віднято від числа, за замовчуванням має відніматися 1. Викличте функцію, передаючи тільки один аргумент."
      ]
    },
    {
      "cell_type": "code",
      "execution_count": 5,
      "metadata": {
        "colab": {
          "base_uri": "https://localhost:8080/"
        },
        "id": "vg1kxkdgBA50",
        "outputId": "5d1269b7-c041-4a3b-ccc9-49be4b5ee783"
      },
      "outputs": [
        {
          "name": "stdout",
          "output_type": "stream",
          "text": [
            "100 minus 34 is equal to 66\n",
            "33\n"
          ]
        }
      ],
      "source": [
        "def subtract(a , b = 1):\n",
        "    return a - b\n",
        "\n",
        "a = 100\n",
        "b = 34\n",
        "print(f\"{a} minus {b} is equal to {subtract(a, b)}\")\n",
        "print(subtract(b))"
      ]
    },
    {
      "cell_type": "markdown",
      "metadata": {
        "id": "D3mwQGNOBBs4"
      },
      "source": [
        "6. (7б) Визначте функцію, яка приймає iterable (ітерабельний обʼєкт, напр. список), що складається з 7ми рядкових значень - назв погодних умов (напр. \"sunny\") за кожен день у тижні. Повертає функція словник, де ключами є рядки з погодними умовами, а значеннями - кількість разів, скільки дана погода була протягом тижня (напр. {'sunny': 1, ...}). Викличте цю функцію та виведіть результат її роботи на екран."
      ]
    },
    {
      "cell_type": "code",
      "execution_count": 6,
      "metadata": {
        "colab": {
          "base_uri": "https://localhost:8080/"
        },
        "id": "OsWm-hKcBFyn",
        "outputId": "6d0a0de7-2c70-4f5f-cc67-82d44e8429a7"
      },
      "outputs": [
        {
          "data": {
            "text/plain": [
              "{'sunny': 3, 'cloudy': 2, 'rainy': 2}"
            ]
          },
          "execution_count": 6,
          "metadata": {},
          "output_type": "execute_result"
        }
      ],
      "source": [
        "def count_to_dict(iterable):\n",
        "    to_return = {};\n",
        "\n",
        "    for str in iterable:\n",
        "        if not str in to_return:\n",
        "            to_return[str] = 1\n",
        "        else:\n",
        "            to_return[str] += 1\n",
        "    \n",
        "    return to_return\n",
        "\n",
        "weather_forecast = [\"sunny\", \"cloudy\", \"cloudy\", \"sunny\", \"rainy\", \"rainy\", \"sunny\"]\n",
        "count_to_dict(weather_forecast)"
      ]
    },
    {
      "cell_type": "markdown",
      "metadata": {
        "id": "RMiCcdOsBKQT"
      },
      "source": [
        "7. (15б) Напишіть програму, яка б шукала необхідне число у впорядкованому списку цілочислених значень, де\n",
        "число має вводитись з консолі.\n",
        "власне алгоритм пошуку винесений в окрему функцію, яка повертає булеве значення (знайдено число - True, не знайдено - False).\n",
        "в залежності від результату функції, виведіть на екран повідомлення про успішний або ж неуспішний пошук.\n",
        "Зауваження: використовувати оператор in заборонено."
      ]
    },
    {
      "cell_type": "code",
      "execution_count": 2,
      "metadata": {
        "colab": {
          "base_uri": "https://localhost:8080/"
        },
        "id": "UNCZg65OBOy-",
        "outputId": "5f3d5997-c2be-4f54-ac00-cf97c131936e"
      },
      "outputs": [],
      "source": [
        "my_array = [3, 6, 7, 8, 10, 10, 15, 16, 19, 20, 21, 21, 21, 23]\n",
        "\n",
        "def binary_search(arr, number):\n",
        "    min = 0\n",
        "    max = len(arr) - 1\n",
        "    mid = 0\n",
        "\n",
        "    while max >= min:\n",
        "        mid = (min + max) // 2\n",
        "        if arr[mid] > number:\n",
        "            max = mid - 1\n",
        "        elif arr[mid] < number:\n",
        "            min = mid + 1\n",
        "        else:\n",
        "            return mid\n",
        "    \n",
        "    return -1\n",
        "\n",
        "def array_contains(arr, number):\n",
        "    return binary_search(arr, number) != -1"
      ]
    },
    {
      "cell_type": "code",
      "execution_count": 6,
      "metadata": {},
      "outputs": [
        {
          "name": "stdout",
          "output_type": "stream",
          "text": [
            "my_array doesn't contain 100 in it.\n"
          ]
        }
      ],
      "source": [
        "input_num = int(input(\"Enter a number to search: \"))\n",
        "\n",
        "if array_contains(my_array, input_num):\n",
        "    print(f\"my_array contains {input_num} in it.\")\n",
        "else:\n",
        "    print(f\"my_array doesn't contain {input_num} in it.\")"
      ]
    },
    {
      "cell_type": "markdown",
      "metadata": {
        "id": "Ae1n_OvLBTsy"
      },
      "source": [
        "# II. Lambda functions."
      ]
    },
    {
      "cell_type": "markdown",
      "metadata": {
        "id": "xaD_wSlaCWen"
      },
      "source": [
        "8. (4б) В яких випадках варто використовувати лямбда-функції?"
      ]
    },
    {
      "cell_type": "markdown",
      "metadata": {
        "id": "42MB6OoLCakR"
      },
      "source": [
        "Лямбда-функції варто використовувати, коли нам треба оголосити анонімну функцію (без імені), яка необхідна нам лише в окремому випадку і ми не плануємо використовувати її десь ще у коді."
      ]
    },
    {
      "cell_type": "markdown",
      "metadata": {
        "id": "USrzrk7GCedk"
      },
      "source": [
        "9. (9б) Визначте список з рядками. Після цього визначте анонімну функцію для отримання першого символу у верхньому регістрі для кожного рядка списку.\n",
        "Підказка: використовуйте анонімну функцію в якості агрумента до вбудованої ф-ції, яка створена для застосування функцій над iterable обʼєктами. Результат виведіть на екран у вигляді кортежу."
      ]
    },
    {
      "cell_type": "code",
      "execution_count": 7,
      "metadata": {
        "id": "M8QWUsMlCjWH"
      },
      "outputs": [
        {
          "data": {
            "text/plain": [
              "('H', 'H', 'W', 'O', 'A', 'S', 'S', 'U')"
            ]
          },
          "execution_count": 7,
          "metadata": {},
          "output_type": "execute_result"
        }
      ],
      "source": [
        "my_str_arr = [\"Hello\", \"hi\", \"welcome\", \"orange\", \"apple\", \"string\", \"Super\", \"uhhh, hello?\"]\n",
        "tuple(map(lambda str: str[0].upper(), my_str_arr))"
      ]
    },
    {
      "cell_type": "markdown",
      "metadata": {
        "id": "9fyUhXOoCtGp"
      },
      "source": [
        "10. (10б) Визначте список з числовими значеннями (і цілими, і з рухомою комою). а) Відфільтруйте всі числа, які діляться націло на 3 за допомогою вбудованої функції та анонімної функції в якості аргумента). Збережіть результат у змінній, не приводяти явно до будь-якого типу. б) Використовуючи результат на кроці 12.а у якості аргументу, та за допомогою лямбда-функції в якості іншого аргументу до вбудованої функції, додайте до кожного елементу число 1 та опісля зведіть у квадрат. Остаточний результат приведіть явно до списку та виведіть на екран."
      ]
    },
    {
      "cell_type": "code",
      "execution_count": 8,
      "metadata": {
        "id": "exEx2_okCsql"
      },
      "outputs": [
        {
          "data": {
            "text/plain": [
              "[25, 100, 784, 841.0, 676.0]"
            ]
          },
          "execution_count": 8,
          "metadata": {},
          "output_type": "execute_result"
        }
      ],
      "source": [
        "my_num_list = [-6, 1, -4, 6.245, 9, 5.1, 0, 27, -30.0, 27.3248, -0.2367, -27.0]\n",
        "\n",
        "task_a_filtered = filter(lambda x: x % 3 == 0 and x != 0, my_num_list)\n",
        "task_b_filtered = list(map(lambda x: (x + 1)**2, task_a_filtered))\n",
        "\n",
        "task_b_filtered"
      ]
    },
    {
      "cell_type": "markdown",
      "metadata": {
        "id": "o_x8cG_WC7jp"
      },
      "source": [
        "# III. Decorators."
      ]
    },
    {
      "cell_type": "markdown",
      "metadata": {
        "id": "mhxS4-mfC8LQ"
      },
      "source": [
        "11. (11б) Визначте декоратор, який би виводив у консоль повідомлення про початок роботи і назву функції (напр. my_function._ _ name _ _), а після відпрацювання функції - повідомлення про закінчення роботи і назву функції, що задекорована."
      ]
    },
    {
      "cell_type": "code",
      "execution_count": 9,
      "metadata": {
        "id": "srd1ygWjDGhO"
      },
      "outputs": [],
      "source": [
        "def details(func):\n",
        "    def wrapper(*args, **kwargs):\n",
        "        print(f\"{func.__name__} was called\")\n",
        "        result = func(*args, **kwargs)\n",
        "        print(f\"{func.__name__} is done\")\n",
        "        return result\n",
        "    return wrapper"
      ]
    },
    {
      "cell_type": "markdown",
      "metadata": {
        "id": "rxGZwVBiDph3"
      },
      "source": [
        "12. (4б) Задекоруйте двома різними способами функції з завдання 4 та 5 декоратором із завдання 11. (**УВАГА**: не декоруйте функції двічі!)."
      ]
    },
    {
      "cell_type": "code",
      "execution_count": 11,
      "metadata": {
        "id": "06lj7eq_DwZe"
      },
      "outputs": [],
      "source": [
        "\n",
        "def subtract(a , b = 1):\n",
        "    return a - b\n",
        "\n",
        "subtract = details(subtract)\n",
        "\n",
        "@details\n",
        "def divide(a, b):\n",
        "    if b == 0: \n",
        "        return None\n",
        "    return a / b;"
      ]
    },
    {
      "cell_type": "markdown",
      "metadata": {
        "id": "P0ep1urBDzf-"
      },
      "source": [
        "13. (2б) Викличте одну з задекорованих функцій і виведіть її результат на екран."
      ]
    },
    {
      "cell_type": "code",
      "execution_count": 12,
      "metadata": {
        "id": "1QvTw0ctD0S3"
      },
      "outputs": [
        {
          "name": "stdout",
          "output_type": "stream",
          "text": [
            "subtract was called\n",
            "subtract is done\n",
            "100 minus 34 is equal to 66\n",
            "divide was called\n",
            "divide is done\n",
            "2.9411764705882355\n"
          ]
        }
      ],
      "source": [
        "a = 100\n",
        "b = 34\n",
        "print(f\"{a} minus {b} is equal to {subtract(a, b)}\")\n",
        "print(divide(a, b))"
      ]
    },
    {
      "cell_type": "markdown",
      "metadata": {
        "id": "poECCpuoD2S9"
      },
      "source": [
        "# IV. Recursion."
      ]
    },
    {
      "cell_type": "markdown",
      "metadata": {
        "id": "DqkURfdsD7MY"
      },
      "source": [
        "14. (4б) Назвіть дві частини функції, які є обовʼязковими для того, щоб називати її рекурсивною."
      ]
    },
    {
      "cell_type": "markdown",
      "metadata": {
        "id": "HYW6ttIeIQIU"
      },
      "source": [
        "У рекурсивній функції повинна бути умова зупинки та рекурсивний виклик."
      ]
    },
    {
      "cell_type": "markdown",
      "metadata": {
        "id": "WYVt20UmEA35"
      },
      "source": [
        "15. (15б) Визначте функцію, яка рекурсивно реалізовує пошук числа у послідовності Фібоначчі за її індексом (нумерація починається з нуля). Наприклад, потрібно знайти перше число у послідовності, тоді функція прийматиме 0 у якості аргумента і повертатиме 1, якщо ж знаходити третє число (індекс 2) послідовності, то функція повертатиме 2, якщо ж знаходити десяте число (індекс 9), то функція повертатиме 55."
      ]
    },
    {
      "cell_type": "code",
      "execution_count": 14,
      "metadata": {
        "colab": {
          "base_uri": "https://localhost:8080/"
        },
        "id": "xIMhp05AIpV_",
        "outputId": "b3147cd5-52da-43ec-f3b1-1bfaa3cfbd6b"
      },
      "outputs": [
        {
          "name": "stdout",
          "output_type": "stream",
          "text": [
            "Fibbonaci number for index 0 is 1\n",
            "Fibbonaci number for index 1 is 1\n",
            "Fibbonaci number for index 2 is 2\n",
            "Fibbonaci number for index 3 is 3\n",
            "Fibbonaci number for index 4 is 5\n",
            "Fibbonaci number for index 5 is 8\n",
            "Fibbonaci number for index 6 is 13\n",
            "Fibbonaci number for index 7 is 21\n",
            "Fibbonaci number for index 8 is 34\n",
            "Fibbonaci number for index 9 is 55\n",
            "Fibbonaci number for index 10 is 89\n",
            "Fibbonaci number for index 11 is 144\n",
            "Fibbonaci number for index 12 is 233\n",
            "Fibbonaci number for index 13 is 377\n",
            "Fibbonaci number for index 14 is 610\n",
            "Fibbonaci number for index 15 is 987\n",
            "Fibbonaci number for index 16 is 1597\n",
            "Fibbonaci number for index 17 is 2584\n",
            "Fibbonaci number for index 18 is 4181\n",
            "Fibbonaci number for index 19 is 6765\n",
            "Fibbonaci number for index 20 is 10946\n",
            "Fibbonaci number for index 21 is 17711\n",
            "Fibbonaci number for index 22 is 28657\n",
            "Fibbonaci number for index 23 is 46368\n",
            "Fibbonaci number for index 24 is 75025\n",
            "Fibbonaci number for index 25 is 121393\n",
            "Fibbonaci number for index 26 is 196418\n"
          ]
        },
        {
          "name": "stdout",
          "output_type": "stream",
          "text": [
            "Fibbonaci number for index 27 is 317811\n",
            "Fibbonaci number for index 28 is 514229\n",
            "Fibbonaci number for index 29 is 832040\n",
            "Fibbonaci number for index 30 is 1346269\n",
            "Fibbonaci number for index 31 is 2178309\n",
            "Fibbonaci number for index 32 is 3524578\n",
            "Fibbonaci number for index 33 is 5702887\n",
            "Fibbonaci number for index 34 is 9227465\n",
            "Fibbonaci number for index 35 is 14930352\n"
          ]
        },
        {
          "ename": "KeyboardInterrupt",
          "evalue": "",
          "output_type": "error",
          "traceback": [
            "\u001b[0;31m---------------------------------------------------------------------------\u001b[0m",
            "\u001b[0;31mKeyboardInterrupt\u001b[0m                         Traceback (most recent call last)",
            "Cell \u001b[0;32mIn[14], line 6\u001b[0m\n\u001b[1;32m      3\u001b[0m     \u001b[38;5;28;01mreturn\u001b[39;00m fibbonaci(index \u001b[38;5;241m-\u001b[39m \u001b[38;5;241m1\u001b[39m) \u001b[38;5;241m+\u001b[39m fibbonaci(index \u001b[38;5;241m-\u001b[39m \u001b[38;5;241m2\u001b[39m)\n\u001b[1;32m      5\u001b[0m \u001b[38;5;28;01mfor\u001b[39;00m i \u001b[38;5;129;01min\u001b[39;00m \u001b[38;5;28mrange\u001b[39m(\u001b[38;5;241m64\u001b[39m):\n\u001b[0;32m----> 6\u001b[0m     \u001b[38;5;28mprint\u001b[39m(\u001b[38;5;124mf\u001b[39m\u001b[38;5;124m\"\u001b[39m\u001b[38;5;124mFibbonaci number for index \u001b[39m\u001b[38;5;132;01m{\u001b[39;00mi\u001b[38;5;132;01m}\u001b[39;00m\u001b[38;5;124m is \u001b[39m\u001b[38;5;132;01m{\u001b[39;00m\u001b[43mfibbonaci\u001b[49m\u001b[43m(\u001b[49m\u001b[43mi\u001b[49m\u001b[43m)\u001b[49m\u001b[38;5;132;01m}\u001b[39;00m\u001b[38;5;124m\"\u001b[39m)\n",
            "Cell \u001b[0;32mIn[14], line 3\u001b[0m, in \u001b[0;36mfibbonaci\u001b[0;34m(index)\u001b[0m\n\u001b[1;32m      1\u001b[0m \u001b[38;5;28;01mdef\u001b[39;00m \u001b[38;5;21mfibbonaci\u001b[39m(index):\n\u001b[1;32m      2\u001b[0m     \u001b[38;5;28;01mif\u001b[39;00m index \u001b[38;5;241m==\u001b[39m \u001b[38;5;241m0\u001b[39m \u001b[38;5;129;01mor\u001b[39;00m index \u001b[38;5;241m==\u001b[39m \u001b[38;5;241m1\u001b[39m: \u001b[38;5;28;01mreturn\u001b[39;00m \u001b[38;5;241m1\u001b[39m\n\u001b[0;32m----> 3\u001b[0m     \u001b[38;5;28;01mreturn\u001b[39;00m \u001b[43mfibbonaci\u001b[49m\u001b[43m(\u001b[49m\u001b[43mindex\u001b[49m\u001b[43m \u001b[49m\u001b[38;5;241;43m-\u001b[39;49m\u001b[43m \u001b[49m\u001b[38;5;241;43m1\u001b[39;49m\u001b[43m)\u001b[49m \u001b[38;5;241m+\u001b[39m fibbonaci(index \u001b[38;5;241m-\u001b[39m \u001b[38;5;241m2\u001b[39m)\n",
            "Cell \u001b[0;32mIn[14], line 3\u001b[0m, in \u001b[0;36mfibbonaci\u001b[0;34m(index)\u001b[0m\n\u001b[1;32m      1\u001b[0m \u001b[38;5;28;01mdef\u001b[39;00m \u001b[38;5;21mfibbonaci\u001b[39m(index):\n\u001b[1;32m      2\u001b[0m     \u001b[38;5;28;01mif\u001b[39;00m index \u001b[38;5;241m==\u001b[39m \u001b[38;5;241m0\u001b[39m \u001b[38;5;129;01mor\u001b[39;00m index \u001b[38;5;241m==\u001b[39m \u001b[38;5;241m1\u001b[39m: \u001b[38;5;28;01mreturn\u001b[39;00m \u001b[38;5;241m1\u001b[39m\n\u001b[0;32m----> 3\u001b[0m     \u001b[38;5;28;01mreturn\u001b[39;00m \u001b[43mfibbonaci\u001b[49m\u001b[43m(\u001b[49m\u001b[43mindex\u001b[49m\u001b[43m \u001b[49m\u001b[38;5;241;43m-\u001b[39;49m\u001b[43m \u001b[49m\u001b[38;5;241;43m1\u001b[39;49m\u001b[43m)\u001b[49m \u001b[38;5;241m+\u001b[39m fibbonaci(index \u001b[38;5;241m-\u001b[39m \u001b[38;5;241m2\u001b[39m)\n",
            "    \u001b[0;31m[... skipping similar frames: fibbonaci at line 3 (22 times)]\u001b[0m\n",
            "Cell \u001b[0;32mIn[14], line 3\u001b[0m, in \u001b[0;36mfibbonaci\u001b[0;34m(index)\u001b[0m\n\u001b[1;32m      1\u001b[0m \u001b[38;5;28;01mdef\u001b[39;00m \u001b[38;5;21mfibbonaci\u001b[39m(index):\n\u001b[1;32m      2\u001b[0m     \u001b[38;5;28;01mif\u001b[39;00m index \u001b[38;5;241m==\u001b[39m \u001b[38;5;241m0\u001b[39m \u001b[38;5;129;01mor\u001b[39;00m index \u001b[38;5;241m==\u001b[39m \u001b[38;5;241m1\u001b[39m: \u001b[38;5;28;01mreturn\u001b[39;00m \u001b[38;5;241m1\u001b[39m\n\u001b[0;32m----> 3\u001b[0m     \u001b[38;5;28;01mreturn\u001b[39;00m fibbonaci(index \u001b[38;5;241m-\u001b[39m \u001b[38;5;241m1\u001b[39m) \u001b[38;5;241m+\u001b[39m \u001b[43mfibbonaci\u001b[49m\u001b[43m(\u001b[49m\u001b[43mindex\u001b[49m\u001b[43m \u001b[49m\u001b[38;5;241;43m-\u001b[39;49m\u001b[43m \u001b[49m\u001b[38;5;241;43m2\u001b[39;49m\u001b[43m)\u001b[49m\n",
            "Cell \u001b[0;32mIn[14], line 1\u001b[0m, in \u001b[0;36mfibbonaci\u001b[0;34m(index)\u001b[0m\n\u001b[0;32m----> 1\u001b[0m \u001b[38;5;28;01mdef\u001b[39;00m \u001b[38;5;21mfibbonaci\u001b[39m(index):\n\u001b[1;32m      2\u001b[0m     \u001b[38;5;28;01mif\u001b[39;00m index \u001b[38;5;241m==\u001b[39m \u001b[38;5;241m0\u001b[39m \u001b[38;5;129;01mor\u001b[39;00m index \u001b[38;5;241m==\u001b[39m \u001b[38;5;241m1\u001b[39m: \u001b[38;5;28;01mreturn\u001b[39;00m \u001b[38;5;241m1\u001b[39m\n\u001b[1;32m      3\u001b[0m     \u001b[38;5;28;01mreturn\u001b[39;00m fibbonaci(index \u001b[38;5;241m-\u001b[39m \u001b[38;5;241m1\u001b[39m) \u001b[38;5;241m+\u001b[39m fibbonaci(index \u001b[38;5;241m-\u001b[39m \u001b[38;5;241m2\u001b[39m)\n",
            "\u001b[0;31mKeyboardInterrupt\u001b[0m: "
          ]
        }
      ],
      "source": [
        "def fibbonaci(index):\n",
        "    if index == 0 or index == 1: return 1\n",
        "    return fibbonaci(index - 1) + fibbonaci(index - 2)\n",
        "\n",
        "for i in range(64):\n",
        "    print(f\"Fibbonaci number for index {i} is {fibbonaci(i)}\")"
      ]
    },
    {
      "cell_type": "markdown",
      "metadata": {
        "id": "ytXC8n_4Ip0W"
      },
      "source": [
        "# Вітаю! Ви велика(ий) молодець, що впоралась(вся). Похваліть себе та побалуйте чимось приємним. Я Вами пишаюся."
      ]
    }
  ],
  "metadata": {
    "colab": {
      "provenance": []
    },
    "kernelspec": {
      "display_name": "Python 3",
      "name": "python3"
    },
    "language_info": {
      "codemirror_mode": {
        "name": "ipython",
        "version": 3
      },
      "file_extension": ".py",
      "mimetype": "text/x-python",
      "name": "python",
      "nbconvert_exporter": "python",
      "pygments_lexer": "ipython3",
      "version": "3.11.2"
    }
  },
  "nbformat": 4,
  "nbformat_minor": 0
}
